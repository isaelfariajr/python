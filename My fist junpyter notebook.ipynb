{
 "cells": [
  {
   "cell_type": "code",
   "execution_count": 1,
   "id": "ed356586-c393-4eb6-bbbd-8dfa99414d42",
   "metadata": {},
   "outputs": [
    {
     "name": "stdout",
     "output_type": "stream",
     "text": [
      "Hello world\n"
     ]
    }
   ],
   "source": [
    "print(\"Hello world"
   ]
  },
  {
   "cell_type": "code",
   "execution_count": 4,
   "id": "f4aefd6c-1e98-4588-bea0-ff62b4f86728",
   "metadata": {},
   "outputs": [
    {
     "name": "stdout",
     "output_type": "stream",
     "text": [
      "Hello world again\n"
     ]
    }
   ],
   "source": [
    "print('Hello world again')"
   ]
  },
  {
   "cell_type": "code",
   "execution_count": 5,
   "id": "2d97a94b-56b7-4f45-9d99-0bc23a9bcd0b",
   "metadata": {},
   "outputs": [
    {
     "name": "stdout",
     "output_type": "stream",
     "text": [
      "insert a cell above by clicking a\n"
     ]
    }
   ],
   "source": [
    "print('insert a cell above by clicking a')"
   ]
  },
  {
   "cell_type": "code",
   "execution_count": 6,
   "id": "3eb9d870-25a2-4f14-9dfd-a189742e1ae9",
   "metadata": {
    "scrolled": true
   },
   "outputs": [
    {
     "name": "stdout",
     "output_type": "stream",
     "text": [
      "insert a cell above by clicking b\n"
     ]
    }
   ],
   "source": [
    "print('insert a cell above by clicking b')"
   ]
  }
 ],
 "metadata": {
  "kernelspec": {
   "display_name": "Python 3 (ipykernel)",
   "language": "python",
   "name": "python3"
  },
  "language_info": {
   "codemirror_mode": {
    "name": "ipython",
    "version": 3
   },
   "file_extension": ".py",
   "mimetype": "text/x-python",
   "name": "python",
   "nbconvert_exporter": "python",
   "pygments_lexer": "ipython3",
   "version": "3.10.12"
  }
 },
 "nbformat": 4,
 "nbformat_minor": 5
}
